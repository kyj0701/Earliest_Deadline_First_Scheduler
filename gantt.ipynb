{
 "cells": [
  {
   "cell_type": "code",
   "execution_count": 7,
   "metadata": {},
   "outputs": [
    {
     "name": "stdout",
     "output_type": "stream",
     "text": [
      "number of process : 3\n",
      "hyper period : 24\n",
      "[(0, 1), (4, 1), (8, 1), (12, 1), (16, 1), (20, 1)]\n",
      "[(1, 1), (2, 1), (7, 1), (9, 1), (14, 1), (15, 1), (18, 1), (19, 1)]\n",
      "[(3, 1), (5, 1), (6, 1), (10, 1), (11, 1), (13, 1), (17, 1), (21, 1), (22, 1)]\n"
     ]
    }
   ],
   "source": [
    "f = open(\"./output.txt\", \"r\")\n",
    "\n",
    "arr = list(map(int, f.readline().split(\" \")))\n",
    "\n",
    "num_of_process = max(arr) + 1\n",
    "hyper_period = len(arr)\n",
    "print(\"number of process :\", num_of_process)\n",
    "print(\"hyper period :\", hyper_period)\n",
    "\n",
    "result = [[] for _ in range(num_of_process)]\n",
    "\n",
    "for i in range(hyper_period):\n",
    "    if arr[i] == -1:\n",
    "        continue\n",
    "    result[arr[i]].append((i, 1))\n",
    "\n",
    "for i in result:\n",
    "    print(i)"
   ]
  },
  {
   "cell_type": "code",
   "execution_count": 9,
   "metadata": {},
   "outputs": [
    {
     "data": {
      "image/png": "[encoded data removed]",
      "text/plain": [
       "<Figure size 576x216 with 1 Axes>"
      ]
     },
     "metadata": {
      "needs_background": "light"
     },
     "output_type": "display_data"
    }
   ],
   "source": [
    "# Importing the matplotlb.pyplot\n",
    "import matplotlib.pyplot as plt\n",
    "from matplotlib.ticker import MultipleLocator, AutoMinorLocator\n",
    "\n",
    "# Declaring a figure \"gnt\"\n",
    "fig, gnt = plt.subplots(figsize=(hyper_period / num_of_process, num_of_process))\n",
    "\n",
    "# Setting Y-axis limits\n",
    "gnt.set_ylim(0, (num_of_process + 1) * 4)\n",
    "\n",
    "# Setting X-axis limits\n",
    "gnt.set_xlim(0, hyper_period)\n",
    "\n",
    "# Setting labels for x-axis and y-axis\n",
    "gnt.set_xlabel('time')\n",
    "gnt.set_ylabel('Process')\n",
    "\n",
    "# Setting ticks on y-axis\n",
    "gnt.set_yticks([(i + 1) * 4 for i in range(num_of_process)])\n",
    "# Labelling tickes of y-axis\n",
    "gnt.set_yticklabels([\"Process {}\".format(i) for i in range(num_of_process, 0, -1)])\n",
    "\n",
    "gnt.set_xticks([i for i in range(hyper_period+1)])\n",
    "\n",
    "# Setting graph attribute\n",
    "gnt.grid(True)\n",
    "gnt.xaxis.set_major_locator(MultipleLocator(5))\n",
    "gnt.xaxis.set_minor_locator(MultipleLocator(1))\n",
    "\n",
    "for i in range(num_of_process - 1, -1, -1):\n",
    "    gnt.broken_barh(result[i], ((num_of_process - i) * 4 - 1, 2))\n",
    "\n",
    "plt.savefig(\"gantt.png\")"
   ]
  },
  {
   "cell_type": "code",
   "execution_count": null,
   "metadata": {},
   "outputs": [],
   "source": []
  }
 ],
 "metadata": {
  "kernelspec": {
   "display_name": "Python 3",
   "language": "python",
   "name": "python3"
  },
  "language_info": {
   "codemirror_mode": {
    "name": "ipython",
    "version": 3
   },
   "file_extension": ".py",
   "mimetype": "text/x-python",
   "name": "python",
   "nbconvert_exporter": "python",
   "pygments_lexer": "ipython3",
   "version": "3.8.5"
  }
 },
 "nbformat": 4,
 "nbformat_minor": 4
}
