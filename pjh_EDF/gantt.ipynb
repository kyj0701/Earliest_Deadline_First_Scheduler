{
 "cells": [
  {
   "cell_type": "code",
   "execution_count": 32,
   "metadata": {},
   "outputs": [
    {
     "name": "stdout",
     "output_type": "stream",
     "text": [
      "number of process : 2\n",
      "largest deadline : 17\n",
      "[(0, 1), (1, 1), (2, 1), (8, 1), (9, 1)]\n",
      "[(3, 1), (4, 1), (5, 1), (6, 1), (7, 1)]\n"
     ]
    }
   ],
   "source": [
    "f = open(\"./output.txt\", \"r\")\n",
    "\n",
    "arr = list(map(int, f.readline().split(\" \")))\n",
    "\n",
    "num_of_process = max(arr) + 1\n",
    "largest_deadline = len(arr)\n",
    "print(\"number of process :\", num_of_process)\n",
    "print(\"largest deadline :\", largest_deadline)\n",
    "\n",
    "result = [[] for _ in range(num_of_process)]\n",
    "\n",
    "for i in range(largest_deadline):\n",
    "    if arr[i] == -1:\n",
    "        continue\n",
    "    result[arr[i]].append((i, 1))\n",
    "\n",
    "for i in result:\n",
    "    print(i)"
   ]
  },
  {
   "cell_type": "code",
   "execution_count": 33,
   "metadata": {},
   "outputs": [
    {
     "data": {
      "image/png": "[encoded data removed]",
      "text/plain": [
       "<Figure size 1800x144 with 1 Axes>"
      ]
     },
     "metadata": {
      "needs_background": "light"
     },
     "output_type": "display_data"
    }
   ],
   "source": [
    "# Importing the matplotlb.pyplot\n",
    "import matplotlib.pyplot as plt\n",
    "from matplotlib.ticker import MultipleLocator, AutoMinorLocator\n",
    "\n",
    "# Declaring a figure \"gnt\"\n",
    "# fig, gnt = plt.subplots(figsize=(largest_deadline / num_of_process, num_of_process))\n",
    "fig, gnt = plt.subplots(figsize=(25, num_of_process if num_of_process <= 25 else 25))\n",
    "\n",
    "plt.yticks(fontsize=16)\n",
    "plt.xticks(fontsize=16)\n",
    "\n",
    "# Setting Y-axis limits\n",
    "gnt.set_ylim(0, (num_of_process + 1) * 4)\n",
    "\n",
    "# Setting X-axis limits\n",
    "gnt.set_xlim(0, largest_deadline)\n",
    "\n",
    "# Setting labels for x-axis and y-axis\n",
    "gnt.set_xlabel('time', fontsize=20)\n",
    "gnt.set_ylabel('Process', fontsize=20)\n",
    "\n",
    "# Setting ticks on y-axis\n",
    "gnt.set_yticks([(i + 1) * 4 for i in range(num_of_process)])\n",
    "# Labelling tickes of y-axis\n",
    "gnt.set_yticklabels([\"{}\".format(i) for i in range(num_of_process, 0, -1)])\n",
    "\n",
    "# gnt.set_xticks([i for i in range(largest_deadline+1)])\n",
    "\n",
    "# Setting graph attribute\n",
    "gnt.grid(True)\n",
    "\n",
    "for i in range(num_of_process - 1, -1, -1):\n",
    "    gnt.broken_barh(result[i], ((num_of_process - i) * 4 - 1, 2))\n",
    "\n",
    "plt.savefig(\"gantt.png\")"
   ]
  },
  {
   "cell_type": "code",
   "execution_count": null,
   "metadata": {},
   "outputs": [],
   "source": []
  }
 ],
 "metadata": {
  "kernelspec": {
   "display_name": "Python 3",
   "language": "python",
   "name": "python3"
  },
  "language_info": {
   "codemirror_mode": {
    "name": "ipython",
    "version": 3
   },
   "file_extension": ".py",
   "mimetype": "text/x-python",
   "name": "python",
   "nbconvert_exporter": "python",
   "pygments_lexer": "ipython3",
   "version": "3.8.5"
  }
 },
 "nbformat": 4,
 "nbformat_minor": 4
}
