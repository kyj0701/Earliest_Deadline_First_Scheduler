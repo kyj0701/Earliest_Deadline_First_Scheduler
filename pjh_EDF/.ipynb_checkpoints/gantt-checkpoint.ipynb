{
 "cells": [
  {
   "cell_type": "code",
   "execution_count": 2,
   "metadata": {},
   "outputs": [
    {
     "name": "stdout",
     "output_type": "stream",
     "text": [
      "number of process : 50\n",
      "hyper period : 213\n",
      "[(0, 1), (178, 1)]\n",
      "[(119, 1)]\n",
      "[(1, 1), (74, 1)]\n",
      "[(76, 1), (77, 1), (78, 1)]\n",
      "[(179, 1), (180, 1), (181, 1), (182, 1), (183, 1), (184, 1), (185, 1), (186, 1), (187, 1), (188, 1)]\n",
      "[(99, 1), (100, 1), (101, 1), (102, 1)]\n",
      "[(2, 1), (3, 1), (4, 1)]\n",
      "[(63, 1)]\n",
      "[]\n",
      "[(16, 1), (21, 1), (22, 1)]\n",
      "[(27, 1)]\n",
      "[(139, 1), (140, 1), (141, 1), (142, 1), (143, 1), (144, 1), (145, 1)]\n",
      "[]\n",
      "[(157, 1), (158, 1), (159, 1)]\n",
      "[]\n",
      "[(66, 1), (67, 1), (68, 1), (69, 1), (70, 1)]\n",
      "[(95, 1), (96, 1), (97, 1), (98, 1)]\n",
      "[(5, 1), (6, 1), (7, 1), (8, 1), (9, 1), (10, 1), (11, 1), (12, 1), (13, 1), (14, 1), (15, 1)]\n",
      "[(138, 1)]\n",
      "[(123, 1), (124, 1)]\n",
      "[(64, 1), (65, 1)]\n",
      "[(106, 1), (107, 1), (108, 1), (109, 1), (110, 1), (111, 1), (112, 1), (113, 1), (114, 1), (115, 1), (116, 1), (117, 1), (118, 1)]\n",
      "[(59, 1), (60, 1), (61, 1), (62, 1)]\n",
      "[(23, 1), (24, 1), (25, 1), (26, 1)]\n",
      "[(189, 1), (190, 1)]\n",
      "[]\n",
      "[(191, 1), (192, 1), (193, 1), (194, 1)]\n",
      "[(127, 1), (128, 1), (129, 1), (130, 1), (131, 1), (132, 1), (133, 1), (134, 1), (135, 1)]\n",
      "[(55, 1), (56, 1), (57, 1), (58, 1)]\n",
      "[(148, 1), (149, 1), (150, 1), (151, 1), (152, 1), (153, 1), (154, 1), (155, 1), (156, 1)]\n",
      "[(79, 1), (80, 1), (81, 1), (82, 1), (83, 1), (84, 1), (85, 1), (86, 1), (87, 1), (88, 1), (89, 1), (90, 1), (91, 1), (92, 1), (93, 1), (94, 1)]\n",
      "[(47, 1), (48, 1), (49, 1), (50, 1), (51, 1)]\n",
      "[(168, 1), (169, 1), (170, 1), (171, 1), (172, 1), (173, 1), (174, 1), (175, 1), (176, 1), (177, 1)]\n",
      "[(28, 1), (29, 1), (30, 1), (31, 1), (32, 1), (33, 1), (34, 1)]\n",
      "[(137, 1)]\n",
      "[(126, 1)]\n",
      "[(136, 1)]\n",
      "[(160, 1), (161, 1), (162, 1), (163, 1), (164, 1)]\n",
      "[(146, 1), (147, 1)]\n",
      "[(71, 1), (72, 1), (73, 1)]\n",
      "[(75, 1)]\n",
      "[(17, 1), (18, 1), (19, 1), (20, 1)]\n",
      "[(103, 1), (104, 1), (105, 1)]\n",
      "[(46, 1)]\n",
      "[(125, 1)]\n",
      "[(52, 1), (53, 1), (54, 1)]\n",
      "[(35, 1), (36, 1), (37, 1), (38, 1), (39, 1), (40, 1), (41, 1), (42, 1), (43, 1), (44, 1), (45, 1)]\n",
      "[(120, 1), (121, 1), (122, 1)]\n",
      "[(165, 1), (166, 1), (167, 1)]\n",
      "[(195, 1), (196, 1), (197, 1), (198, 1), (199, 1), (200, 1), (201, 1), (202, 1), (203, 1), (204, 1), (205, 1), (206, 1), (207, 1)]\n"
     ]
    }
   ],
   "source": [
    "f = open(\"./output.txt\", \"r\")\n",
    "\n",
    "arr = list(map(int, f.readline().split(\" \")))\n",
    "\n",
    "num_of_process = max(arr) + 1\n",
    "hyper_period = len(arr)\n",
    "print(\"number of process :\", num_of_process)\n",
    "print(\"hyper period :\", hyper_period)\n",
    "\n",
    "result = [[] for _ in range(num_of_process)]\n",
    "\n",
    "for i in range(hyper_period):\n",
    "    if arr[i] == -1:\n",
    "        continue\n",
    "    result[arr[i]].append((i, 1))\n",
    "\n",
    "for i in result:\n",
    "    print(i)"
   ]
  },
  {
   "cell_type": "code",
   "execution_count": 10,
   "metadata": {},
   "outputs": [
    {
     "data": {
      "image/png": "[encoded data removed]",
      "text/plain": [
       "<Figure size 432x288 with 1 Axes>"
      ]
     },
     "metadata": {
      "needs_background": "light"
     },
     "output_type": "display_data"
    }
   ],
   "source": [
    "# Importing the matplotlb.pyplot\n",
    "import matplotlib.pyplot as plt\n",
    "from matplotlib.ticker import MultipleLocator, AutoMinorLocator\n",
    "\n",
    "# Declaring a figure \"gnt\"\n",
    "# fig, gnt = plt.subplots(figsize=(hyper_period / num_of_process, num_of_process))\n",
    "fig, gnt = plt.subplots()\n",
    "\n",
    "# Setting Y-axis limits\n",
    "gnt.set_ylim(0, (num_of_process + 1) * 4)\n",
    "\n",
    "# Setting X-axis limits\n",
    "gnt.set_xlim(0, hyper_period)\n",
    "\n",
    "# Setting labels for x-axis and y-axis\n",
    "gnt.set_xlabel('time')\n",
    "gnt.set_ylabel('Process')\n",
    "\n",
    "# Setting ticks on y-axis\n",
    "gnt.set_yticks([(i + 1) * 4 for i in range(num_of_process)])\n",
    "# Labelling tickes of y-axis\n",
    "gnt.set_yticklabels([\"{}\".format(i) for i in range(num_of_process, 0, -1)])\n",
    "\n",
    "# gnt.set_xticks([i for i in range(hyper_period+1)])\n",
    "\n",
    "# Setting graph attribute\n",
    "gnt.grid(True)\n",
    "# gnt.xaxis.set_major_locator(MultipleLocator(5))\n",
    "# gnt.xaxis.set_minor_locator(MultipleLocator(1))\n",
    "\n",
    "for i in range(num_of_process - 1, -1, -1):\n",
    "    gnt.broken_barh(result[i], ((num_of_process - i) * 4 - 1, 2))\n",
    "\n",
    "plt.savefig(\"gantt.png\")"
   ]
  },
  {
   "cell_type": "code",
   "execution_count": null,
   "metadata": {},
   "outputs": [],
   "source": []
  }
 ],
 "metadata": {
  "kernelspec": {
   "display_name": "Python 3",
   "language": "python",
   "name": "python3"
  },
  "language_info": {
   "codemirror_mode": {
    "name": "ipython",
    "version": 3
   },
   "file_extension": ".py",
   "mimetype": "text/x-python",
   "name": "python",
   "nbconvert_exporter": "python",
   "pygments_lexer": "ipython3",
   "version": "3.8.5"
  }
 },
 "nbformat": 4,
 "nbformat_minor": 4
}
